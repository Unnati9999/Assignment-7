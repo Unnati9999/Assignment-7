{
 "cells": [
  {
   "cell_type": "markdown",
   "id": "4fbc13d1-15b5-43ae-816a-3409599e981f",
   "metadata": {},
   "source": [
    "Q1. What is Abstraction in OOps? Explain with an example."
   ]
  },
  {
   "cell_type": "code",
   "execution_count": 1,
   "id": "cd25490f-e546-48a5-a4bb-aeb42fdedf27",
   "metadata": {},
   "outputs": [],
   "source": [
    "import abc\n",
    "class pwskills:\n",
    "    \n",
    "    @abc.abstractmethod\n",
    "    def students_detials(self):\n",
    "        pass\n",
    "    \n",
    "    @abc.abstractmethod\n",
    "    def student_assignemnt(self):\n",
    "        pass\n",
    "    \n",
    "    @abc.abstractmethod\n",
    "    def student_marks(self):\n",
    "        pass\n"
   ]
  },
  {
   "cell_type": "code",
   "execution_count": 2,
   "id": "9c9f955e-b778-4d03-87ce-cfc102e2cf52",
   "metadata": {},
   "outputs": [],
   "source": [
    "pwskills.student_marks(52)"
   ]
  },
  {
   "cell_type": "code",
   "execution_count": 3,
   "id": "ff4c6d90-9008-45cf-856d-a807324e8c07",
   "metadata": {},
   "outputs": [],
   "source": [
    "pwskills.student_assignemnt(\"assign7th\")"
   ]
  },
  {
   "cell_type": "code",
   "execution_count": 4,
   "id": "46b16497-3241-4f54-8f0a-668c20c2f6b7",
   "metadata": {},
   "outputs": [],
   "source": [
    "pwskills.students_detials(\"opps\")"
   ]
  },
  {
   "cell_type": "markdown",
   "id": "2e548ed9-7b26-4020-b026-6d0540854b0b",
   "metadata": {},
   "source": [
    "Q2. Differentiate between and Encapsulation. Explain with an example."
   ]
  },
  {
   "cell_type": "code",
   "execution_count": 5,
   "id": "7801f90d-9c5a-4850-b6f2-e8ac7c5f4a91",
   "metadata": {},
   "outputs": [],
   "source": [
    "class phone :\n",
    "    \n",
    "    def __init__(self , name , model , year ):\n",
    "        self.name = name\n",
    "        self.__model = model\n",
    "        self.__year = year\n",
    "    \n",
    "    def phone_details(self):\n",
    "        pass"
   ]
  },
  {
   "cell_type": "code",
   "execution_count": 6,
   "id": "f78fce62-68b3-4e16-96d3-1f45b66aeb5a",
   "metadata": {},
   "outputs": [],
   "source": [
    "pw = phone(\"redmi\" , \"toyota\" , 2022)"
   ]
  },
  {
   "cell_type": "code",
   "execution_count": 8,
   "id": "30baf0b7-931c-4188-9cda-24919b7a8368",
   "metadata": {},
   "outputs": [
    {
     "data": {
      "text/plain": [
       "'redmi'"
      ]
     },
     "execution_count": 8,
     "metadata": {},
     "output_type": "execute_result"
    }
   ],
   "source": [
    "pw.name"
   ]
  },
  {
   "cell_type": "markdown",
   "id": "4c4337ca-d82d-4f03-9274-c071aa490b6f",
   "metadata": {},
   "source": [
    " model and year are got hide by using encapsulation"
   ]
  },
  {
   "cell_type": "markdown",
   "id": "dc21f0e0-dc83-42a3-b3dc-ecc7879ff295",
   "metadata": {},
   "source": [
    "Q3. What is abc module in python? Why is it used?"
   ]
  },
  {
   "cell_type": "code",
   "execution_count": 10,
   "id": "52797dde-8c8b-4c70-9f1f-a159dd60f478",
   "metadata": {},
   "outputs": [],
   "source": [
    "class Shape(abc.ABC):\n",
    "    @abc.abstractmethod\n",
    "    def area(self):\n",
    "        pass\n",
    "@Shape.register\n",
    "class Rectangle():\n",
    "    def __init__(self, x,y):\n",
    "        self.l = x\n",
    "        self.b=y\n",
    "    def area(self):\n",
    "        return self.l*self.b"
   ]
  },
  {
   "cell_type": "code",
   "execution_count": null,
   "id": "d68fafa0-1403-46aa-947e-a552174122d2",
   "metadata": {},
   "outputs": [],
   "source": []
  }
 ],
 "metadata": {
  "kernelspec": {
   "display_name": "Python 3 (ipykernel)",
   "language": "python",
   "name": "python3"
  },
  "language_info": {
   "codemirror_mode": {
    "name": "ipython",
    "version": 3
   },
   "file_extension": ".py",
   "mimetype": "text/x-python",
   "name": "python",
   "nbconvert_exporter": "python",
   "pygments_lexer": "ipython3",
   "version": "3.10.8"
  }
 },
 "nbformat": 4,
 "nbformat_minor": 5
}
